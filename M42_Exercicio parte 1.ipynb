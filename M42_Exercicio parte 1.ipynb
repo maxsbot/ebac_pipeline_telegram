{
  "cells": [
    {
      "cell_type": "markdown",
      "metadata": {
        "id": "KJqp9AANOCtf"
      },
      "source": [
        "<img src=\"https://raw.githubusercontent.com/andre-marcos-perez/ebac-course-utils/main/media/logo/newebac_logo_black_half.png\" alt=\"ebac-logo\">\n",
        "\n",
        "---\n",
        "\n",
        "# **Módulo** | Pipeline de Dados do Telegram I\n",
        "Caderno de **Exercícios**<br> \n",
        "Professor [André Perez](https://www.linkedin.com/in/andremarcosperez/)\n",
        "\n",
        "---"
      ]
    },
    {
      "cell_type": "markdown",
      "metadata": {
        "id": "d9jDtUbDOE1-"
      },
      "source": [
        "# **Tópicos**\n",
        "\n",
        "<ol type=\"1\">\n",
        "  <li>Contexto;</li>\n",
        "  <li>Telegram;</li>\n",
        "  <li>Dados.</li>\n",
        "</ol>"
      ]
    },
    {
      "cell_type": "markdown",
      "metadata": {
        "id": "SmoHgt-lwkpD"
      },
      "source": [
        "---"
      ]
    },
    {
      "cell_type": "markdown",
      "metadata": {
        "id": "GABI6OW8OfQ2"
      },
      "source": [
        "# **Exercícios**"
      ]
    },
    {
      "cell_type": "markdown",
      "metadata": {
        "id": "ne7Ay0HKaGSv"
      },
      "source": [
        "## 1\\. Telegram."
      ]
    },
    {
      "cell_type": "markdown",
      "metadata": {
        "id": "OQxOVktrzG9I"
      },
      "source": [
        "Replique as atividades da aula 2."
      ]
    },
    {
      "cell_type": "markdown",
      "metadata": {
        "id": "E69nBHvAa_O5"
      },
      "source": [
        "1.1. Crie uma conta no **Telegram** caso não possua uma e faça o login na versão web da ferramenta através desse [link](https://web.telegram.org)."
      ]
    },
    {
      "cell_type": "markdown",
      "metadata": {
        "id": "R9Ils6eccOLS"
      },
      "source": [
        "1.2. Crie um *bot*."
      ]
    },
    {
      "cell_type": "markdown",
      "metadata": {
        "id": "8oTn1Z1Md2GQ"
      },
      "source": [
        "1.3. Crie um grupo e adicione o *bot*."
      ]
    },
    {
      "cell_type": "markdown",
      "metadata": {
        "id": "LzXWWUWzeNxt"
      },
      "source": [
        "1.4. Torne o *bot* administrador do grupo."
      ]
    },
    {
      "cell_type": "markdown",
      "metadata": {
        "id": "_D2WT_iueaRr"
      },
      "source": [
        "1.5. Desabilite a opção de adicionar o *bot* a novos grupos."
      ]
    },
    {
      "cell_type": "markdown",
      "metadata": {
        "id": "t4PyML7VUPBd"
      },
      "source": [
        "1.6. Envie diversos tipos de mensagens no grupo (text, imagem, arquivos, video, áudio, etc.) e as consuma utilizand a API de *bots* do **Telegram**."
      ]
    },
    {
      "cell_type": "markdown",
      "metadata": {
        "id": "c4MXmvWMUetr"
      },
      "source": [
        "> **Nota:** A documentação completa da API pode ser encontrada neste [link](https://core.telegram.org/bots/api)"
      ]
    },
    {
      "cell_type": "code",
      "execution_count": 36,
      "metadata": {},
      "outputs": [],
      "source": [
        "import json\n",
        "import requests"
      ]
    },
    {
      "cell_type": "code",
      "execution_count": 37,
      "metadata": {},
      "outputs": [],
      "source": [
        "from dotenv import load_dotenv\n",
        "import os\n",
        "\n",
        "load_dotenv()\n",
        "token = os.getenv(\"TOKEN\")"
      ]
    },
    {
      "cell_type": "code",
      "execution_count": 38,
      "metadata": {},
      "outputs": [
        {
          "name": "stdout",
          "output_type": "stream",
          "text": [
            "{\n",
            "  \"ok\": true,\n",
            "  \"result\": {\n",
            "    \"id\": 7935850201,\n",
            "    \"is_bot\": true,\n",
            "    \"first_name\": \"ebac_aws_bot\",\n",
            "    \"username\": \"ebac_aws_bot\",\n",
            "    \"can_join_groups\": false,\n",
            "    \"can_read_all_group_messages\": true,\n",
            "    \"supports_inline_queries\": false,\n",
            "    \"can_connect_to_business\": false,\n",
            "    \"has_main_web_app\": false\n",
            "  }\n",
            "}\n"
          ]
        }
      ],
      "source": [
        "# URL do bot a ser consumido via API do Telegram:\n",
        "base_url = f'https://api.telegram.org/bot{token}'\n",
        "\n",
        "# método GetMe:\n",
        "resposta = requests.get(url=f'{base_url}/getme')\n",
        "print(json.dumps(json.loads(resposta.text), indent=2))"
      ]
    },
    {
      "cell_type": "code",
      "execution_count": 40,
      "metadata": {},
      "outputs": [
        {
          "name": "stdout",
          "output_type": "stream",
          "text": [
            "{\n",
            "  \"ok\": true,\n",
            "  \"result\": [\n",
            "    {\n",
            "      \"update_id\": 202746841,\n",
            "      \"message\": {\n",
            "        \"message_id\": 3,\n",
            "        \"from\": {\n",
            "          \"id\": 24043654,\n",
            "          \"is_bot\": false,\n",
            "          \"first_name\": \"M.S.\",\n",
            "          \"username\": \"mxvinicius\"\n",
            "        },\n",
            "        \"chat\": {\n",
            "          \"id\": -1002362101890,\n",
            "          \"title\": \"EBAC_GRUPO\",\n",
            "          \"type\": \"supergroup\"\n",
            "        },\n",
            "        \"date\": 1740689226,\n",
            "        \"text\": \"Oi\"\n",
            "      }\n",
            "    },\n",
            "    {\n",
            "      \"update_id\": 202746842,\n",
            "      \"my_chat_member\": {\n",
            "        \"chat\": {\n",
            "          \"id\": -1002362101890,\n",
            "          \"title\": \"EBAC_GRUPO\",\n",
            "          \"type\": \"supergroup\"\n",
            "        },\n",
            "        \"from\": {\n",
            "          \"id\": 24043654,\n",
            "          \"is_bot\": false,\n",
            "          \"first_name\": \"M.S.\",\n",
            "          \"username\": \"mxvinicius\"\n",
            "        },\n",
            "        \"date\": 1740689270,\n",
            "        \"old_chat_member\": {\n",
            "          \"user\": {\n",
            "            \"id\": 7935850201,\n",
            "            \"is_bot\": true,\n",
            "            \"first_name\": \"ebac_aws_bot\",\n",
            "            \"username\": \"ebac_aws_bot\"\n",
            "          },\n",
            "          \"status\": \"administrator\",\n",
            "          \"can_be_edited\": false,\n",
            "          \"can_manage_chat\": true,\n",
            "          \"can_change_info\": true,\n",
            "          \"can_delete_messages\": true,\n",
            "          \"can_invite_users\": true,\n",
            "          \"can_restrict_members\": true,\n",
            "          \"can_pin_messages\": true,\n",
            "          \"can_manage_topics\": true,\n",
            "          \"can_promote_members\": true,\n",
            "          \"can_manage_video_chats\": true,\n",
            "          \"can_post_stories\": true,\n",
            "          \"can_edit_stories\": true,\n",
            "          \"can_delete_stories\": true,\n",
            "          \"is_anonymous\": true,\n",
            "          \"can_manage_voice_chats\": true\n",
            "        },\n",
            "        \"new_chat_member\": {\n",
            "          \"user\": {\n",
            "            \"id\": 7935850201,\n",
            "            \"is_bot\": true,\n",
            "            \"first_name\": \"ebac_aws_bot\",\n",
            "            \"username\": \"ebac_aws_bot\"\n",
            "          },\n",
            "          \"status\": \"administrator\",\n",
            "          \"can_be_edited\": false,\n",
            "          \"can_manage_chat\": true,\n",
            "          \"can_change_info\": true,\n",
            "          \"can_delete_messages\": true,\n",
            "          \"can_invite_users\": true,\n",
            "          \"can_restrict_members\": true,\n",
            "          \"can_pin_messages\": true,\n",
            "          \"can_manage_topics\": true,\n",
            "          \"can_promote_members\": false,\n",
            "          \"can_manage_video_chats\": true,\n",
            "          \"can_post_stories\": true,\n",
            "          \"can_edit_stories\": true,\n",
            "          \"can_delete_stories\": true,\n",
            "          \"is_anonymous\": false,\n",
            "          \"can_manage_voice_chats\": true\n",
            "        }\n",
            "      }\n",
            "    },\n",
            "    {\n",
            "      \"update_id\": 202746843,\n",
            "      \"message\": {\n",
            "        \"message_id\": 4,\n",
            "        \"from\": {\n",
            "          \"id\": 24043654,\n",
            "          \"is_bot\": false,\n",
            "          \"first_name\": \"M.S.\",\n",
            "          \"username\": \"mxvinicius\"\n",
            "        },\n",
            "        \"chat\": {\n",
            "          \"id\": -1002362101890,\n",
            "          \"title\": \"EBAC_GRUPO\",\n",
            "          \"type\": \"supergroup\"\n",
            "        },\n",
            "        \"date\": 1740689275,\n",
            "        \"text\": \"Oi\"\n",
            "      }\n",
            "    },\n",
            "    {\n",
            "      \"update_id\": 202746844,\n",
            "      \"message\": {\n",
            "        \"message_id\": 5,\n",
            "        \"from\": {\n",
            "          \"id\": 24043654,\n",
            "          \"is_bot\": false,\n",
            "          \"first_name\": \"M.S.\",\n",
            "          \"username\": \"mxvinicius\"\n",
            "        },\n",
            "        \"chat\": {\n",
            "          \"id\": -1002362101890,\n",
            "          \"title\": \"EBAC_GRUPO\",\n",
            "          \"type\": \"supergroup\"\n",
            "        },\n",
            "        \"date\": 1740689280,\n",
            "        \"text\": \"Ol\\u00e1 bot\"\n",
            "      }\n",
            "    },\n",
            "    {\n",
            "      \"update_id\": 202746845,\n",
            "      \"message\": {\n",
            "        \"message_id\": 6,\n",
            "        \"from\": {\n",
            "          \"id\": 24043654,\n",
            "          \"is_bot\": false,\n",
            "          \"first_name\": \"M.S.\",\n",
            "          \"username\": \"mxvinicius\"\n",
            "        },\n",
            "        \"chat\": {\n",
            "          \"id\": -1002362101890,\n",
            "          \"title\": \"EBAC_GRUPO\",\n",
            "          \"type\": \"supergroup\"\n",
            "        },\n",
            "        \"date\": 1740689331,\n",
            "        \"text\": \"Oi\"\n",
            "      }\n",
            "    },\n",
            "    {\n",
            "      \"update_id\": 202746846,\n",
            "      \"message\": {\n",
            "        \"message_id\": 7,\n",
            "        \"from\": {\n",
            "          \"id\": 24043654,\n",
            "          \"is_bot\": false,\n",
            "          \"first_name\": \"M.S.\",\n",
            "          \"username\": \"mxvinicius\"\n",
            "        },\n",
            "        \"chat\": {\n",
            "          \"id\": -1002362101890,\n",
            "          \"title\": \"EBAC_GRUPO\",\n",
            "          \"type\": \"supergroup\"\n",
            "        },\n",
            "        \"date\": 1740689334,\n",
            "        \"text\": \"Tudo bem?\"\n",
            "      }\n",
            "    }\n",
            "  ]\n",
            "}\n"
          ]
        }
      ],
      "source": [
        "# método GetUpdates (checar por conteúdos enviados):\n",
        "resposta = requests.get(url=f'{base_url}/getupdates')\n",
        "print(json.dumps(json.loads(resposta.text), indent=2))"
      ]
    }
  ],
  "metadata": {
    "colab": {
      "collapsed_sections": [
        "JG1HL69-j0lH",
        "s_Dj-BgThLg5",
        "jeEzLmuRhDQy",
        "PoTeRwlihDQ0",
        "QpMlxqRyhDQ1",
        "ov7Fg-mWhDQ1",
        "DvHPNAoPgdiG",
        "3SMp5GwjglJm",
        "e3ieQfXTgqd3",
        "L0pKWNr5fm9z",
        "DMhCpOU_gupo",
        "l3h0WP2Eg2ht",
        "rWG4Vk6XaWtf",
        "wkibgd8rB8y3",
        "IjPaJtnYE0MI",
        "2lpj1rszc--m",
        "HnWg_mhLd5gC",
        "RhqmXiHQo-is",
        "SvT9xrajLL7J",
        "91eSyA2cLLqv"
      ],
      "name": "modulo_43_exercicio.ipynb",
      "provenance": [],
      "toc_visible": true
    },
    "kernelspec": {
      "display_name": ".venv",
      "language": "python",
      "name": "python3"
    },
    "language_info": {
      "codemirror_mode": {
        "name": "ipython",
        "version": 3
      },
      "file_extension": ".py",
      "mimetype": "text/x-python",
      "name": "python",
      "nbconvert_exporter": "python",
      "pygments_lexer": "ipython3",
      "version": "3.12.5"
    }
  },
  "nbformat": 4,
  "nbformat_minor": 0
}
